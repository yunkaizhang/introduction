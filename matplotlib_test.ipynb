{
 "cells": [
  {
   "cell_type": "code",
   "execution_count": 1,
   "metadata": {},
   "outputs": [],
   "source": [
    "%matplotlib inline  \n",
    "import pandas as pd\n",
    "import numpy as np\n",
    "import matplotlib.pyplot as plt\n",
    "import matplotlib.gridspec as gridspec\n",
    "import matplotlib.image as mpimg\n",
    "from scipy.optimize import curve_fit\n",
    "import matplotlib as mpl\n",
    "from cycler import cycler"
   ]
  },
  {
   "cell_type": "code",
   "execution_count": 2,
   "metadata": {},
   "outputs": [],
   "source": [
    "# Setup rc parameters\n",
    "mpl.rcParams['errorbar.capsize'] = 2\n",
    "mpl.rcParams['lines.linewidth'] = 1.25\n",
    "mpl.rcParams['axes.linewidth'] = 1\n",
    "mpl.rcParams['font.family'] = 'DejaVu Sans'\n",
    "mpl.rcParams['font.sans-serif'] = ['Arial']\n",
    "mpl.rcParams['axes.prop_cycle'] = cycler(color=('#D43F3F','k'))"
   ]
  },
  {
   "cell_type": "code",
   "execution_count": 3,
   "metadata": {},
   "outputs": [],
   "source": [
    "# define hill-curve\n",
    "def DRC(x, bottom,top,logEC50,HillSlope):\n",
    "\t# This is copied from GraphPad\n",
    "\ty = bottom+(top-bottom)/(1+ (10**((logEC50-x)*HillSlope)))\n",
    "\treturn y"
   ]
  },
  {
   "cell_type": "code",
   "execution_count": 4,
   "metadata": {},
   "outputs": [],
   "source": [
    "# Test data\n",
    "dose = [1000/(3**x) for x in range(0,7)][::-1]\n",
    "d1 = [100,98,100,96,95,97,90]\n",
    "e1 = [2,1,0.5,2,4,0.7,3]\n",
    "d2 = [96,85,72,42,32,28,31]\n",
    "e2 = [4,6,3,11,10,13,9]"
   ]
  },
  {
   "cell_type": "code",
   "execution_count": 5,
   "metadata": {},
   "outputs": [
    {
     "name": "stderr",
     "output_type": "stream",
     "text": [
      "/home/yunkai/miniconda3/envs/data_science/lib/python3.7/site-packages/ipykernel_launcher.py:2: DeprecationWarning: object of type <class 'float'> cannot be safely interpreted as an integer.\n",
      "  \n"
     ]
    }
   ],
   "source": [
    "conc = np.log10(dose)\n",
    "refDose = np.linspace(min(conc)-0.2,max(conc)+0.2,1e3)"
   ]
  },
  {
   "cell_type": "code",
   "execution_count": 6,
   "metadata": {},
   "outputs": [],
   "source": [
    "fitbound = ((-100,0,-np.inf,-np.inf),(100,200,np.inf,0))"
   ]
  },
  {
   "cell_type": "code",
   "execution_count": 7,
   "metadata": {},
   "outputs": [
    {
     "name": "stdout",
     "output_type": "stream",
     "text": [
      "[-100.           99.37535038    5.57188397   -0.52327321]\n",
      "[28.99882018 94.74313691  1.22527958 -1.62479202]\n"
     ]
    },
    {
     "data": {
      "text/plain": [
       "<ErrorbarContainer object of 3 artists>"
      ]
     },
     "execution_count": 7,
     "metadata": {},
     "output_type": "execute_result"
    },
    {
     "data": {
      "image/png": "[encoded data removed]",
      "text/plain": [
       "<Figure size 432x288 with 1 Axes>"
      ]
     },
     "metadata": {
      "needs_background": "light"
     },
     "output_type": "display_data"
    }
   ],
   "source": [
    "popt, pcov = curve_fit(DRC, conc, d1, bounds=fitbound, maxfev=10000)\n",
    "print(popt)\n",
    "plt.plot(refDose,DRC(refDose,*popt),label='test_cell_line_1')\n",
    "popt, pcov = curve_fit(DRC, conc, d2, bounds=fitbound, maxfev=10000)\n",
    "print(popt)\n",
    "plt.plot(refDose,DRC(refDose,*popt),label='test_cell_line_2')\n",
    "plt.legend(fontsize=9,loc=3)\n",
    "plt.errorbar(conc,d1,yerr=e1,\n",
    "\t\t\tmfc='#D43F3F', elinewidth=1, zorder=2, ms=5, fmt='s',\n",
    "\t\t\tlabel='_nolabel_')\n",
    "plt.errorbar(conc,d2,yerr=e2,\n",
    "\t\t\tmfc='k', elinewidth=1, zorder=2, ms=5, fmt='s',\n",
    "\t\t\tlabel='_nolabel_')"
   ]
  },
  {
   "cell_type": "code",
   "execution_count": null,
   "metadata": {},
   "outputs": [],
   "source": []
  },
  {
   "cell_type": "code",
   "execution_count": null,
   "metadata": {},
   "outputs": [],
   "source": []
  }
 ],
 "metadata": {
  "kernelspec": {
   "display_name": "Python 3",
   "language": "python",
   "name": "python3"
  },
  "language_info": {
   "codemirror_mode": {
    "name": "ipython",
    "version": 3
   },
   "file_extension": ".py",
   "mimetype": "text/x-python",
   "name": "python",
   "nbconvert_exporter": "python",
   "pygments_lexer": "ipython3",
   "version": "3.7.4"
  }
 },
 "nbformat": 4,
 "nbformat_minor": 2
}
